{
  "nbformat": 4,
  "nbformat_minor": 0,
  "metadata": {
    "colab": {
      "provenance": [],
      "authorship_tag": "ABX9TyNUdy4SK2a4YPi0qVHJWWYv",
      "include_colab_link": true
    },
    "kernelspec": {
      "name": "python3",
      "display_name": "Python 3"
    },
    "language_info": {
      "name": "python"
    }
  },
  "cells": [
    {
      "cell_type": "markdown",
      "metadata": {
        "id": "view-in-github",
        "colab_type": "text"
      },
      "source": [
        "<a href=\"https://colab.research.google.com/github/Rose-Kimu/Machine-Learning-Classwork/blob/main/Accuracy_Metrics.ipynb\" target=\"_parent\"><img src=\"https://colab.research.google.com/assets/colab-badge.svg\" alt=\"Open In Colab\"/></a>"
      ]
    },
    {
      "cell_type": "code",
      "execution_count": null,
      "metadata": {
        "id": "r1Iz4H7dT14B"
      },
      "outputs": [],
      "source": []
    },
    {
      "cell_type": "code",
      "execution_count": 1,
      "metadata": {
        "id": "7WeCQNf9OJk7"
      },
      "outputs": [],
      "source": [
        "import numpy as np\n",
        "import matplotlib.pyplot as plt\n",
        "import matplotlib as mpl\n",
        "import seaborn as sns\n",
        "import pandas as pd\n",
        "import patsy\n",
        "\n",
        "import itertools as it\n",
        "import collections as co\n",
        "import functools as ft\n",
        "import os.path as osp\n",
        "\n",
        "import glob\n",
        "import textwrap\n",
        "\n",
        "# finally, a better idiom for warnings\n",
        "import sklearn, warnings\n",
        "warnings.filterwarnings('ignore',\n",
        "                        category=FutureWarning,\n",
        "                        module='sklearn')\n",
        "\n",
        "warnings.filterwarnings('ignore',\n",
        "                        category=FutureWarning,\n",
        "                        module='tensor*')\n",
        "\n",
        "# if the warnings get overwhelming,\n",
        "# you can re-disable with these original lines:\n",
        "#import warnings\n",
        "#warnings.filterwarnings(\"ignore\")\n",
        "\n",
        "# and for the really aggressive warnings:\n",
        "# some warnings are stubborn in the extreme, we don't want\n",
        "# them in the book\n",
        "#def warn(*args, **kwargs):  pass\n",
        "#warnings.warn = warn\n",
        "\n",
        "# config related\n",
        "np.set_printoptions(precision=4,\n",
        "                    suppress=True)\n",
        "pd.options.display.float_format = '{:20,.4f}'.format\n",
        "\n",
        "# there are good reasons *NOT* to do this in any real production code\n",
        "# for our purposes (writing a book with completely reproducable output)\n",
        "# this *is* what we want\n",
        "np.random.seed(42)\n",
        "\n",
        "# default is [6.4, 4.8]  (4:3)\n",
        "mpl.rcParams['figure.figsize'] = [4.0, 3.0]\n",
        "\n",
        "# turn on latex tables\n",
        "pd.set_option('display.latex.repr', True)\n",
        "# monkey-patch for centering Out[] DataFrames\n",
        "def _repr_latex_(self):\n",
        "    return \"{\\centering\\n%s\\n\\medskip}\" % self.to_latex()\n",
        "pd.DataFrame._repr_latex_ = _repr_latex_\n",
        "\n",
        "# only used once\n",
        "markers = it.cycle(['+', '^', 'o', '_', '*', 'd', 'x', 's'])\n",
        "\n",
        "\n",
        "# handy helper for displaying stuff\n",
        "from IPython.display import Image\n",
        "\n",
        "#\n",
        "# sklearn's packaging is very java-esque.  :(\n",
        "#\n",
        "from sklearn import (cluster,\n",
        "                     datasets,\n",
        "                     decomposition,\n",
        "                     discriminant_analysis,\n",
        "                     dummy,\n",
        "                     ensemble,\n",
        "                     feature_selection as ftr_sel,\n",
        "                     linear_model,\n",
        "                     metrics,\n",
        "                     model_selection as skms,\n",
        "                     multiclass as skmulti,\n",
        "                     naive_bayes,\n",
        "                     neighbors,\n",
        "                     pipeline,\n",
        "                     preprocessing as skpre,\n",
        "                     svm,\n",
        "                     tree)\n",
        "\n",
        "\n",
        "# the punch line is to predict for a large grid of data points\n",
        "# http://scikit-learn.org/stable/auto_examples/neighbors/plot_classification.html\n",
        "def plot_boundary(ax, data, tgt, model, dims, grid_step = .01):\n",
        "    # grab a 2D view of the data and get limits\n",
        "    twoD = data[:, list(dims)]\n",
        "    min_x1, min_x2 = np.min(twoD, axis=0) + 2 * grid_step\n",
        "    max_x1, max_x2 = np.max(twoD, axis=0) - grid_step\n",
        "\n",
        "\n",
        "    # make a grid of points and predict at them\n",
        "    xs, ys = np.mgrid[min_x1:max_x1:grid_step,\n",
        "                      min_x2:max_x2:grid_step]\n",
        "    grid_points = np.c_[xs.ravel(), ys.ravel()]\n",
        "    # warning:  non-cv fit\n",
        "    preds = model.fit(twoD, tgt).predict(grid_points).reshape(xs.shape)\n",
        "\n",
        "    # plot the predictions at the grid points\n",
        "    ax.pcolormesh(xs,ys,preds,shading='auto',cmap=plt.cm.coolwarm)\n",
        "    ax.set_xlim(min_x1, max_x1)#-grid_step)\n",
        "    ax.set_ylim(min_x2, max_x2)#-grid_step)\n",
        "\n",
        "def plot_separator(model, xs, ys, label='', ax=None):\n",
        "    ''' xs, ys are 1-D b/c contour and decision_function\n",
        "        use incompatible packaging '''\n",
        "    if ax is None:\n",
        "        ax = plt.gca()\n",
        "\n",
        "    xy = np_cartesian_product(xs, ys)\n",
        "    z_shape = (xs.size, ys.size) # verus shape[0]?\n",
        "    zs = model.decision_function(xy).reshape(z_shape)\n",
        "\n",
        "    contours = ax.contour(xs, ys, zs,\n",
        "                          colors='k', levels=[0],\n",
        "                          linestyles=['-'])\n",
        "    fmt = {contours.levels[0] : label}\n",
        "    labels = ax.clabel(contours, fmt=fmt, inline_spacing=10)\n",
        "    [l.set_rotation(-90) for l in labels]\n",
        "\n",
        "def high_school_style(ax):\n",
        "    ' helper to define an axis to look like a typical school plot '\n",
        "    ax.spines['left'].set_position(('data', 0.0))\n",
        "    ax.spines['bottom'].set_position(('data', 0.0))\n",
        "    ax.spines['right'].set_visible(False)\n",
        "    ax.spines['top'].set_visible(False)\n",
        "\n",
        "    def make_ticks(lims):\n",
        "        lwr, upr = sorted(lims) #x/ylims can be inverted in mpl\n",
        "        lwr = np.round(lwr).astype('int') # can return np objs\n",
        "        upr = np.round(upr).astype('int')\n",
        "        if lwr * upr < 0:\n",
        "            return list(range(lwr, 0)) + list(range(1,upr+1))\n",
        "        else:\n",
        "            return list(range(lwr, upr+1))\n",
        "\n",
        "    import matplotlib.ticker as ticker\n",
        "    xticks = make_ticks(ax.get_xlim())\n",
        "    yticks = make_ticks(ax.get_ylim())\n",
        "\n",
        "    ax.xaxis.set_major_locator(ticker.FixedLocator(xticks))\n",
        "    ax.yaxis.set_major_locator(ticker.FixedLocator(yticks))\n",
        "\n",
        "    ax.set_aspect('equal')\n",
        "\n",
        "def get_model_name(model):\n",
        "    ' return name of model (class) as a string '\n",
        "    return str(model.__class__).split('.')[-1][:-2]\n",
        "\n",
        "def rdot(w,x):\n",
        "    ' apply np.dot on swapped args '\n",
        "    return np.dot(x,w)\n",
        "\n",
        "from sklearn.base import BaseEstimator, ClassifierMixin\n",
        "class DLDA(BaseEstimator, ClassifierMixin):\n",
        "    def __init__(self):\n",
        "        pass\n",
        "\n",
        "    def fit(self, train_ftrs, train_tgts):\n",
        "        self.uniq_tgts = np.unique(train_tgts)\n",
        "        self.means, self.priors = {}, {}\n",
        "\n",
        "        self.var  = train_ftrs.var(axis=0) # biased\n",
        "        for tgt in self.uniq_tgts:\n",
        "            cases = train_ftrs[train_tgts==tgt]\n",
        "            self.means[tgt]  = cases.mean(axis=0)\n",
        "            self.priors[tgt] = len(cases) / len(train_ftrs)\n",
        "        return self\n",
        "\n",
        "    def predict(self, test_ftrs):\n",
        "        disc = np.empty((test_ftrs.shape[0],\n",
        "                         self.uniq_tgts.shape[0]))\n",
        "        for tgt in self.uniq_tgts:\n",
        "            # technically, the maha_dist is sqrt() of this:\n",
        "            mahalanobis_dists = ((test_ftrs - self.means[tgt])**2 /\n",
        "                                 self.var)\n",
        "            disc[:,tgt] = (-np.sum(mahalanobis_dists, axis=1) +\n",
        "                           2 * np.log(self.priors[tgt]))\n",
        "        return np.argmax(disc,axis=1)\n",
        "\n",
        "\n",
        "def plot_lines_and_projections(axes, lines, points, xs):\n",
        "    data_xs, data_ys = points[:,0], points[:,1]\n",
        "    mean = np.mean(points, axis=0, keepdims=True)\n",
        "    centered_data = points - mean\n",
        "\n",
        "    for (m,b), ax in zip(lines, axes):\n",
        "        mb_line = m*xs + b\n",
        "        v_line = np.array([[1, 1/m if m else 0]])\n",
        "\n",
        "        ax.plot(data_xs, data_ys, 'r.') # uncentered\n",
        "        ax.plot(xs, mb_line, 'y')      # uncentered\n",
        "        ax.plot(*mean.T, 'ko')\n",
        "\n",
        "        # centered data makes the math easier!\n",
        "        # this is length on yellow line from red to blue\n",
        "        # distance from mean to projected point\n",
        "        y_lengths = centered_data.dot(v_line.T) / v_line.dot(v_line.T)\n",
        "        projs = y_lengths.dot(v_line)\n",
        "\n",
        "        # decenter (back to original coordinates)\n",
        "        final = projs + mean\n",
        "        ax.plot(*final.T, 'b.')\n",
        "\n",
        "        # connect points to projections\n",
        "        from matplotlib import collections as mc\n",
        "        proj_lines = mc.LineCollection(zip(points,final))\n",
        "        ax.add_collection(proj_lines)\n",
        "\n",
        "        hypots = zip(points, np.broadcast_to(mean, points.shape))\n",
        "        mean_lines = mc.LineCollection(hypots, linestyles='dashed')\n",
        "        ax.add_collection(mean_lines)\n",
        "\n",
        "# adding an orientation would be nice\n",
        "def sane_quiver(vs, ax=None, colors=None, origin=(0,0)):\n",
        "    '''plot row vectors from origin'''\n",
        "    vs = np.asarray(vs)\n",
        "    assert vs.ndim == 2 and vs.shape[1] == 2  # ensure column vectors\n",
        "    n = vs.shape[0]\n",
        "    if not ax: ax = plt.gca()\n",
        "\n",
        "    orig_x, orig_y = origin\n",
        "    xs = vs.T[0]  # column to rows, row[0] is xs\n",
        "    ys = vs.T[1]\n",
        "\n",
        "    # highly annoying:  quiver doesn't broadcast anymore (?)\n",
        "    orig_x = np.full_like(xs, orig_x)\n",
        "    orig_x = np.full_like(xs, orig_x)\n",
        "\n",
        "    props = {\"angles\":'xy', 'scale':1, 'scale_units':'xy'}\n",
        "    ax.quiver(orig_x, orig_y, xs, ys, color=colors, **props)\n",
        "\n",
        "    ax.set_aspect('equal')\n",
        "    # ax.set_axis_off()\n",
        "    _min, _max = min(vs.min(), 0) -1, max(0, vs.max())+1\n",
        "    ax.set_xlim(_min, _max)\n",
        "    ax.set_ylim(_min, _max)\n",
        "\n",
        "def reweight(examples, weights):\n",
        "    ''' convert weights to counts of examples using approximately two\n",
        "        significant digits of weights.\n",
        "\n",
        "        there are probably a 100 reasons not to do this like this.\n",
        "        top 2:\n",
        "          1.  boosting may require more precise values (or using randomization)\n",
        "              to keep things unbiased\n",
        "          2.  this *really* expands the dataset to a significant degree\n",
        "              (wastes resources)\n",
        "    '''\n",
        "    from math import gcd\n",
        "    from functools import reduce\n",
        "\n",
        "    # who needs repeated the least?\n",
        "    min_wgt = min(weights)\n",
        "    min_replicate = 1 / min_wgt # e.g., .25 -> 4\n",
        "\n",
        "    # compute naive duplication to 2 decimal places\n",
        "    counts = (min_replicate * weights * 100).astype(np.int64)\n",
        "\n",
        "    # trim duplication if we can\n",
        "    our_gcd = reduce(gcd, counts)\n",
        "    counts = counts // our_gcd\n",
        "\n",
        "    # repeat is picky about type\n",
        "    return np.repeat(examples, counts, axis=0)\n",
        "\n",
        "#examples = np.array([1, 10, 20])\n",
        "#weights  = np.array([.25, .33, 1-(.25+.33)])\n",
        "# print(pd.Series(reweight(examples, weights)))\n",
        "\n",
        "def enumerate_outer(outer_seq):\n",
        "    '''repeat the outer idx based on len of inner'''\n",
        "    return np.repeat(*zip(*enumerate(map(len, outer_seq))))\n",
        "\n",
        "def np_array_fromiter(itr, shape, dtype=np.float64):\n",
        "    ''' helper since np.fromiter only does 1D'''\n",
        "    arr = np.empty(shape, dtype=dtype)\n",
        "    for idx, itm in enumerate(itr):\n",
        "        arr[idx] = itm\n",
        "    return arr\n",
        "\n",
        "# how do you figure out arcane code?\n",
        "# work inside out, small inputs, pay attention to datatypes.\n",
        "# try outter and righter calls with simpler inputs\n",
        "# read docs *in conjunction with* experiments\n",
        "# [the docs rarely make sense - to me - in the abstract until I try\n",
        "#  examples while reading them]\n",
        "\n",
        "# the difference with a \"raw\" np.meshgrid call is we stack these up in\n",
        "# two columns of results (i.e., we make a table out of the pair arrays)\n",
        "def np_cartesian_product(*arrays):\n",
        "    ''' some numpy kung-fu to produce all\n",
        "        possible combinations of input arrays '''\n",
        "    ndim = len(arrays)\n",
        "    return np.stack(np.meshgrid(*arrays), axis=-1).reshape(-1, ndim)\n",
        "\n",
        "# replacement for tsplot is happiest with\n",
        "# \"tidy\" data\n",
        "# tidying the numpy array is a bit of a pain\n",
        "# xarray is designed to do this \"natively\" but\n",
        "# i don't want to introduce that dependency\n",
        "# [seems like there could be a better broadcasting\n",
        "#  solution to this]\n",
        "def sk_graph_to_tidy(train_test_scores, # y values\n",
        "                     eval_points,       # x values\n",
        "                     eval_label,        # x column name\n",
        "                     num_folds):        # could be inferred\n",
        "    train_scores, test_scores = train_test_scores\n",
        "    # humph, didn't know np_cartesian was order sensitive\n",
        "    labels = np_cartesian_product(eval_points,\n",
        "                                  [0,1], # surrogates for train/test\n",
        "                                  np.arange(num_folds))\n",
        "    score = np.concatenate([train_scores.flatten(),\n",
        "                            test_scores.flatten()], axis=0)\n",
        "\n",
        "    df = pd.DataFrame.from_records(labels)\n",
        "    df.columns = [eval_label, 'set', 'fold']\n",
        "    df.set = df.set.replace({0:'Train', 1:'Test'})\n",
        "    df['score'] = score\n",
        "    return df\n"
      ]
    },
    {
      "cell_type": "code",
      "source": [
        "# setup\n",
        "# from mlwpy import *\n",
        "%matplotlib inline\n",
        "iris = datasets.load_iris()\n",
        "tts = skms.train_test_split(iris.data, iris.target,\n",
        "test_size=.33, random_state=21)\n",
        "(iris_train_ftrs, iris_test_ftrs,\n",
        "iris_train_tgt,\n",
        "iris_test_tgt) = tts"
      ],
      "metadata": {
        "id": "zJY9TxucXBdU"
      },
      "execution_count": 3,
      "outputs": []
    },
    {
      "cell_type": "code",
      "source": [
        "# normal usage:\n",
        "# build-fit-predict-evaluate\n",
        "baseline = dummy.DummyClassifier(strategy=\"most_frequent\")\n",
        "baseline.fit(iris_train_ftrs, iris_train_tgt)\n",
        "base_preds = baseline.predict(iris_test_ftrs)\n",
        "base_acc = metrics.accuracy_score(base_preds, iris_test_tgt)\n",
        "print(base_acc)"
      ],
      "metadata": {
        "colab": {
          "base_uri": "https://localhost:8080/"
        },
        "id": "lVmuavWuW-gB",
        "outputId": "c714d528-9a8d-43cd-83bc-a69c52628f5a"
      },
      "execution_count": 5,
      "outputs": [
        {
          "output_type": "stream",
          "name": "stdout",
          "text": [
            "0.3\n"
          ]
        }
      ]
    },
    {
      "cell_type": "code",
      "source": [
        "strategies = ['constant', 'uniform', 'stratified',\n",
        "'prior', 'most_frequent']\n",
        "# set up args to create different DummyClassifier strategies\n",
        "baseline_args = [{'strategy':s} for s in strategies]\n",
        "baseline_args[0]['constant'] = 0 # class 0 is setosa\n",
        "accuracies = []\n",
        "for bla in baseline_args:\n",
        "  baseline = dummy.DummyClassifier(**bla)\n",
        "  baseline.fit(iris_train_ftrs, iris_train_tgt)\n",
        "  base_preds = baseline.predict(iris_test_ftrs)\n",
        "  accuracies.append(metrics.accuracy_score(base_preds, iris_test_tgt))\n",
        "display(pd.DataFrame({'accuracy':accuracies}, index=strategies))"
      ],
      "metadata": {
        "colab": {
          "base_uri": "https://localhost:8080/",
          "height": 261
        },
        "id": "kvs6E4ElXR_A",
        "outputId": "7187c524-3f2f-4441-bced-21a1069a4e7d"
      },
      "execution_count": 9,
      "outputs": [
        {
          "output_type": "stream",
          "name": "stderr",
          "text": [
            "<ipython-input-1-bd5686fdc492>:54: FutureWarning: In future versions `DataFrame.to_latex` is expected to utilise the base implementation of `Styler.to_latex` for formatting and rendering. The arguments signature may therefore change. It is recommended instead to use `DataFrame.style.to_latex` which also contains additional functionality.\n",
            "  return \"{\\centering\\n%s\\n\\medskip}\" % self.to_latex()\n"
          ]
        },
        {
          "output_type": "display_data",
          "data": {
            "text/plain": [
              "                          accuracy\n",
              "constant                    0.3600\n",
              "uniform                     0.2400\n",
              "stratified                  0.3200\n",
              "prior                       0.3000\n",
              "most_frequent               0.3000"
            ],
            "text/html": [
              "\n",
              "  <div id=\"df-9db9dbd7-6003-4f10-af6d-a09c4b36e28c\" class=\"colab-df-container\">\n",
              "    <div>\n",
              "<style scoped>\n",
              "    .dataframe tbody tr th:only-of-type {\n",
              "        vertical-align: middle;\n",
              "    }\n",
              "\n",
              "    .dataframe tbody tr th {\n",
              "        vertical-align: top;\n",
              "    }\n",
              "\n",
              "    .dataframe thead th {\n",
              "        text-align: right;\n",
              "    }\n",
              "</style>\n",
              "<table border=\"1\" class=\"dataframe\">\n",
              "  <thead>\n",
              "    <tr style=\"text-align: right;\">\n",
              "      <th></th>\n",
              "      <th>accuracy</th>\n",
              "    </tr>\n",
              "  </thead>\n",
              "  <tbody>\n",
              "    <tr>\n",
              "      <th>constant</th>\n",
              "      <td>0.3600</td>\n",
              "    </tr>\n",
              "    <tr>\n",
              "      <th>uniform</th>\n",
              "      <td>0.2400</td>\n",
              "    </tr>\n",
              "    <tr>\n",
              "      <th>stratified</th>\n",
              "      <td>0.3200</td>\n",
              "    </tr>\n",
              "    <tr>\n",
              "      <th>prior</th>\n",
              "      <td>0.3000</td>\n",
              "    </tr>\n",
              "    <tr>\n",
              "      <th>most_frequent</th>\n",
              "      <td>0.3000</td>\n",
              "    </tr>\n",
              "  </tbody>\n",
              "</table>\n",
              "</div>\n",
              "    <div class=\"colab-df-buttons\">\n",
              "\n",
              "  <div class=\"colab-df-container\">\n",
              "    <button class=\"colab-df-convert\" onclick=\"convertToInteractive('df-9db9dbd7-6003-4f10-af6d-a09c4b36e28c')\"\n",
              "            title=\"Convert this dataframe to an interactive table.\"\n",
              "            style=\"display:none;\">\n",
              "\n",
              "  <svg xmlns=\"http://www.w3.org/2000/svg\" height=\"24px\" viewBox=\"0 -960 960 960\">\n",
              "    <path d=\"M120-120v-720h720v720H120Zm60-500h600v-160H180v160Zm220 220h160v-160H400v160Zm0 220h160v-160H400v160ZM180-400h160v-160H180v160Zm440 0h160v-160H620v160ZM180-180h160v-160H180v160Zm440 0h160v-160H620v160Z\"/>\n",
              "  </svg>\n",
              "    </button>\n",
              "\n",
              "  <style>\n",
              "    .colab-df-container {\n",
              "      display:flex;\n",
              "      gap: 12px;\n",
              "    }\n",
              "\n",
              "    .colab-df-convert {\n",
              "      background-color: #E8F0FE;\n",
              "      border: none;\n",
              "      border-radius: 50%;\n",
              "      cursor: pointer;\n",
              "      display: none;\n",
              "      fill: #1967D2;\n",
              "      height: 32px;\n",
              "      padding: 0 0 0 0;\n",
              "      width: 32px;\n",
              "    }\n",
              "\n",
              "    .colab-df-convert:hover {\n",
              "      background-color: #E2EBFA;\n",
              "      box-shadow: 0px 1px 2px rgba(60, 64, 67, 0.3), 0px 1px 3px 1px rgba(60, 64, 67, 0.15);\n",
              "      fill: #174EA6;\n",
              "    }\n",
              "\n",
              "    .colab-df-buttons div {\n",
              "      margin-bottom: 4px;\n",
              "    }\n",
              "\n",
              "    [theme=dark] .colab-df-convert {\n",
              "      background-color: #3B4455;\n",
              "      fill: #D2E3FC;\n",
              "    }\n",
              "\n",
              "    [theme=dark] .colab-df-convert:hover {\n",
              "      background-color: #434B5C;\n",
              "      box-shadow: 0px 1px 3px 1px rgba(0, 0, 0, 0.15);\n",
              "      filter: drop-shadow(0px 1px 2px rgba(0, 0, 0, 0.3));\n",
              "      fill: #FFFFFF;\n",
              "    }\n",
              "  </style>\n",
              "\n",
              "    <script>\n",
              "      const buttonEl =\n",
              "        document.querySelector('#df-9db9dbd7-6003-4f10-af6d-a09c4b36e28c button.colab-df-convert');\n",
              "      buttonEl.style.display =\n",
              "        google.colab.kernel.accessAllowed ? 'block' : 'none';\n",
              "\n",
              "      async function convertToInteractive(key) {\n",
              "        const element = document.querySelector('#df-9db9dbd7-6003-4f10-af6d-a09c4b36e28c');\n",
              "        const dataTable =\n",
              "          await google.colab.kernel.invokeFunction('convertToInteractive',\n",
              "                                                    [key], {});\n",
              "        if (!dataTable) return;\n",
              "\n",
              "        const docLinkHtml = 'Like what you see? Visit the ' +\n",
              "          '<a target=\"_blank\" href=https://colab.research.google.com/notebooks/data_table.ipynb>data table notebook</a>'\n",
              "          + ' to learn more about interactive tables.';\n",
              "        element.innerHTML = '';\n",
              "        dataTable['output_type'] = 'display_data';\n",
              "        await google.colab.output.renderOutput(dataTable, element);\n",
              "        const docLink = document.createElement('div');\n",
              "        docLink.innerHTML = docLinkHtml;\n",
              "        element.appendChild(docLink);\n",
              "      }\n",
              "    </script>\n",
              "  </div>\n",
              "\n",
              "\n",
              "<div id=\"df-8cc624cb-a06e-4244-b3b1-c58c68738889\">\n",
              "  <button class=\"colab-df-quickchart\" onclick=\"quickchart('df-8cc624cb-a06e-4244-b3b1-c58c68738889')\"\n",
              "            title=\"Suggest charts\"\n",
              "            style=\"display:none;\">\n",
              "\n",
              "<svg xmlns=\"http://www.w3.org/2000/svg\" height=\"24px\"viewBox=\"0 0 24 24\"\n",
              "     width=\"24px\">\n",
              "    <g>\n",
              "        <path d=\"M19 3H5c-1.1 0-2 .9-2 2v14c0 1.1.9 2 2 2h14c1.1 0 2-.9 2-2V5c0-1.1-.9-2-2-2zM9 17H7v-7h2v7zm4 0h-2V7h2v10zm4 0h-2v-4h2v4z\"/>\n",
              "    </g>\n",
              "</svg>\n",
              "  </button>\n",
              "\n",
              "<style>\n",
              "  .colab-df-quickchart {\n",
              "      --bg-color: #E8F0FE;\n",
              "      --fill-color: #1967D2;\n",
              "      --hover-bg-color: #E2EBFA;\n",
              "      --hover-fill-color: #174EA6;\n",
              "      --disabled-fill-color: #AAA;\n",
              "      --disabled-bg-color: #DDD;\n",
              "  }\n",
              "\n",
              "  [theme=dark] .colab-df-quickchart {\n",
              "      --bg-color: #3B4455;\n",
              "      --fill-color: #D2E3FC;\n",
              "      --hover-bg-color: #434B5C;\n",
              "      --hover-fill-color: #FFFFFF;\n",
              "      --disabled-bg-color: #3B4455;\n",
              "      --disabled-fill-color: #666;\n",
              "  }\n",
              "\n",
              "  .colab-df-quickchart {\n",
              "    background-color: var(--bg-color);\n",
              "    border: none;\n",
              "    border-radius: 50%;\n",
              "    cursor: pointer;\n",
              "    display: none;\n",
              "    fill: var(--fill-color);\n",
              "    height: 32px;\n",
              "    padding: 0;\n",
              "    width: 32px;\n",
              "  }\n",
              "\n",
              "  .colab-df-quickchart:hover {\n",
              "    background-color: var(--hover-bg-color);\n",
              "    box-shadow: 0 1px 2px rgba(60, 64, 67, 0.3), 0 1px 3px 1px rgba(60, 64, 67, 0.15);\n",
              "    fill: var(--button-hover-fill-color);\n",
              "  }\n",
              "\n",
              "  .colab-df-quickchart-complete:disabled,\n",
              "  .colab-df-quickchart-complete:disabled:hover {\n",
              "    background-color: var(--disabled-bg-color);\n",
              "    fill: var(--disabled-fill-color);\n",
              "    box-shadow: none;\n",
              "  }\n",
              "\n",
              "  .colab-df-spinner {\n",
              "    border: 2px solid var(--fill-color);\n",
              "    border-color: transparent;\n",
              "    border-bottom-color: var(--fill-color);\n",
              "    animation:\n",
              "      spin 1s steps(1) infinite;\n",
              "  }\n",
              "\n",
              "  @keyframes spin {\n",
              "    0% {\n",
              "      border-color: transparent;\n",
              "      border-bottom-color: var(--fill-color);\n",
              "      border-left-color: var(--fill-color);\n",
              "    }\n",
              "    20% {\n",
              "      border-color: transparent;\n",
              "      border-left-color: var(--fill-color);\n",
              "      border-top-color: var(--fill-color);\n",
              "    }\n",
              "    30% {\n",
              "      border-color: transparent;\n",
              "      border-left-color: var(--fill-color);\n",
              "      border-top-color: var(--fill-color);\n",
              "      border-right-color: var(--fill-color);\n",
              "    }\n",
              "    40% {\n",
              "      border-color: transparent;\n",
              "      border-right-color: var(--fill-color);\n",
              "      border-top-color: var(--fill-color);\n",
              "    }\n",
              "    60% {\n",
              "      border-color: transparent;\n",
              "      border-right-color: var(--fill-color);\n",
              "    }\n",
              "    80% {\n",
              "      border-color: transparent;\n",
              "      border-right-color: var(--fill-color);\n",
              "      border-bottom-color: var(--fill-color);\n",
              "    }\n",
              "    90% {\n",
              "      border-color: transparent;\n",
              "      border-bottom-color: var(--fill-color);\n",
              "    }\n",
              "  }\n",
              "</style>\n",
              "\n",
              "  <script>\n",
              "    async function quickchart(key) {\n",
              "      const quickchartButtonEl =\n",
              "        document.querySelector('#' + key + ' button');\n",
              "      quickchartButtonEl.disabled = true;  // To prevent multiple clicks.\n",
              "      quickchartButtonEl.classList.add('colab-df-spinner');\n",
              "      try {\n",
              "        const charts = await google.colab.kernel.invokeFunction(\n",
              "            'suggestCharts', [key], {});\n",
              "      } catch (error) {\n",
              "        console.error('Error during call to suggestCharts:', error);\n",
              "      }\n",
              "      quickchartButtonEl.classList.remove('colab-df-spinner');\n",
              "      quickchartButtonEl.classList.add('colab-df-quickchart-complete');\n",
              "    }\n",
              "    (() => {\n",
              "      let quickchartButtonEl =\n",
              "        document.querySelector('#df-8cc624cb-a06e-4244-b3b1-c58c68738889 button');\n",
              "      quickchartButtonEl.style.display =\n",
              "        google.colab.kernel.accessAllowed ? 'block' : 'none';\n",
              "    })();\n",
              "  </script>\n",
              "</div>\n",
              "    </div>\n",
              "  </div>\n"
            ],
            "text/latex": "{\\centering\n\\begin{tabular}{lr}\n\\toprule\n{} &             accuracy \\\\\n\\midrule\nconstant      &               0.3600 \\\\\nuniform       &               0.2400 \\\\\nstratified    &               0.3200 \\\\\nprior         &               0.3000 \\\\\nmost\\_frequent &               0.3000 \\\\\n\\bottomrule\n\\end{tabular}\n\n\\medskip}"
          },
          "metadata": {}
        }
      ]
    },
    {
      "cell_type": "code",
      "source": [
        "# helpful stdlib tool for cleaning up printouts\n",
        "import textwrap\n",
        "print(textwrap.fill(str(sorted(metrics.SCORERS.keys())),width=70))"
      ],
      "metadata": {
        "colab": {
          "base_uri": "https://localhost:8080/"
        },
        "id": "2aIGxOZbXgBH",
        "outputId": "968cc8f6-8c73-4a4c-a946-ca4a38114c4e"
      },
      "execution_count": 10,
      "outputs": [
        {
          "output_type": "stream",
          "name": "stdout",
          "text": [
            "['accuracy', 'adjusted_mutual_info_score', 'adjusted_rand_score',\n",
            "'average_precision', 'balanced_accuracy', 'completeness_score',\n",
            "'explained_variance', 'f1', 'f1_macro', 'f1_micro', 'f1_samples',\n",
            "'f1_weighted', 'fowlkes_mallows_score', 'homogeneity_score',\n",
            "'jaccard', 'jaccard_macro', 'jaccard_micro', 'jaccard_samples',\n",
            "'jaccard_weighted', 'matthews_corrcoef', 'max_error',\n",
            "'mutual_info_score', 'neg_brier_score', 'neg_log_loss',\n",
            "'neg_mean_absolute_error', 'neg_mean_absolute_percentage_error',\n",
            "'neg_mean_gamma_deviance', 'neg_mean_poisson_deviance',\n",
            "'neg_mean_squared_error', 'neg_mean_squared_log_error',\n",
            "'neg_median_absolute_error', 'neg_negative_likelihood_ratio',\n",
            "'neg_root_mean_squared_error', 'normalized_mutual_info_score',\n",
            "'positive_likelihood_ratio', 'precision', 'precision_macro',\n",
            "'precision_micro', 'precision_samples', 'precision_weighted', 'r2',\n",
            "'rand_score', 'recall', 'recall_macro', 'recall_micro',\n",
            "'recall_samples', 'recall_weighted', 'roc_auc', 'roc_auc_ovo',\n",
            "'roc_auc_ovo_weighted', 'roc_auc_ovr', 'roc_auc_ovr_weighted',\n",
            "'top_k_accuracy', 'v_measure_score']\n"
          ]
        }
      ]
    },
    {
      "cell_type": "code",
      "source": [
        "knn = neighbors.KNeighborsClassifier()\n",
        "# help(knn.score) # verbose, but complete\n",
        "print(knn.score.__doc__.splitlines()[0])\n",
        "print('\\n---and---\\n')\n",
        "print(\"\\n\".join(knn.score.__doc__.splitlines()[-6:]))\n",
        "help(knn.score)"
      ],
      "metadata": {
        "colab": {
          "base_uri": "https://localhost:8080/"
        },
        "id": "OTz2v9HbYnky",
        "outputId": "21698ced-d151-4727-a137-0f773a7d3e94"
      },
      "execution_count": 12,
      "outputs": [
        {
          "output_type": "stream",
          "name": "stdout",
          "text": [
            "\n",
            "\n",
            "---and---\n",
            "\n",
            "\n",
            "        Returns\n",
            "        -------\n",
            "        score : float\n",
            "            Mean accuracy of ``self.predict(X)`` w.r.t. `y`.\n",
            "        \n",
            "Help on method score in module sklearn.base:\n",
            "\n",
            "score(X, y, sample_weight=None) method of sklearn.neighbors._classification.KNeighborsClassifier instance\n",
            "    Return the mean accuracy on the given test data and labels.\n",
            "    \n",
            "    In multi-label classification, this is the subset accuracy\n",
            "    which is a harsh metric since you require for each sample that\n",
            "    each label set be correctly predicted.\n",
            "    \n",
            "    Parameters\n",
            "    ----------\n",
            "    X : array-like of shape (n_samples, n_features)\n",
            "        Test samples.\n",
            "    \n",
            "    y : array-like of shape (n_samples,) or (n_samples, n_outputs)\n",
            "        True labels for `X`.\n",
            "    \n",
            "    sample_weight : array-like of shape (n_samples,), default=None\n",
            "        Sample weights.\n",
            "    \n",
            "    Returns\n",
            "    -------\n",
            "    score : float\n",
            "        Mean accuracy of ``self.predict(X)`` w.r.t. `y`.\n",
            "\n"
          ]
        }
      ]
    },
    {
      "cell_type": "code",
      "source": [
        "tgt_preds = (neighbors.KNeighborsClassifier()\n",
        ".fit(iris_train_ftrs, iris_train_tgt)\n",
        ".predict(iris_test_ftrs))\n",
        "print(\"accuracy:\", metrics.accuracy_score(iris_test_tgt,\n",
        "tgt_preds))\n",
        "cm = metrics.confusion_matrix(iris_test_tgt,\n",
        "tgt_preds)\n",
        "print(\"confusion matrix:\", cm, sep=\"\\n\")"
      ],
      "metadata": {
        "colab": {
          "base_uri": "https://localhost:8080/"
        },
        "id": "hzFHPle7YvjY",
        "outputId": "c6f83999-6f35-4ae8-b61e-3f4805052f1b"
      },
      "execution_count": 13,
      "outputs": [
        {
          "output_type": "stream",
          "name": "stdout",
          "text": [
            "accuracy: 0.94\n",
            "confusion matrix:\n",
            "[[18  0  0]\n",
            " [ 0 16  1]\n",
            " [ 0  2 13]]\n"
          ]
        }
      ]
    },
    {
      "cell_type": "code",
      "source": [
        "fig, ax = plt.subplots(1, 1, figsize=(4, 4))\n",
        "cm = metrics.confusion_matrix(iris_test_tgt, tgt_preds)\n",
        "ax = sns.heatmap(cm, annot=True, square=True,\n",
        "xticklabels=iris.target_names,\n",
        "yticklabels=iris.target_names)\n",
        "ax.set_xlabel('Predicted')\n",
        "ax.set_ylabel('Actual');"
      ],
      "metadata": {
        "colab": {
          "base_uri": "https://localhost:8080/",
          "height": 363
        },
        "id": "H3mJRM-JfL2B",
        "outputId": "cfa7279b-1dc1-4821-a5c6-2157d33381cf"
      },
      "execution_count": 14,
      "outputs": [
        {
          "output_type": "display_data",
          "data": {
            "text/plain": [
              "<Figure size 400x400 with 2 Axes>"
            ],
            "image/png": "[encoded data removed]"
          },
          "metadata": {}
        }
      ]
    },
    {
      "cell_type": "code",
      "source": [
        "macro_prec = metrics.precision_score(iris_test_tgt,\n",
        "tgt_preds,\n",
        "average='macro')\n",
        "print(\"macro:\", macro_prec)\n",
        "cm = metrics.confusion_matrix(iris_test_tgt, tgt_preds)\n",
        "n_labels = len(iris.target_names)\n",
        "print(\"should equal 'macro avg':\",\n",
        "# correct\n",
        "# column\n",
        "# columns\n",
        "(np.diag(cm) / cm.sum(axis=0)).sum() / n_labels)"
      ],
      "metadata": {
        "colab": {
          "base_uri": "https://localhost:8080/"
        },
        "id": "6qjwQAdCfRVR",
        "outputId": "9348e6db-1ac1-49cc-edf5-d90ed6aaee51"
      },
      "execution_count": 16,
      "outputs": [
        {
          "output_type": "stream",
          "name": "stdout",
          "text": [
            "macro: 0.9391534391534391\n",
            "should equal 'macro avg': 0.9391534391534391\n"
          ]
        }
      ]
    },
    {
      "cell_type": "code",
      "source": [
        "print(\"micro:\", metrics.precision_score(iris_test_tgt,\n",
        "tgt_preds,\n",
        "average='micro'))\n",
        "cm = metrics.confusion_matrix(iris_test_tgt, tgt_preds)\n",
        "print(\"should equal avg='micro':\",\n",
        "# TP.sum()/ (TP&FP).sum() -->\n",
        "# all correct/ all preds\n",
        "np.diag(cm).sum() / cm.sum())"
      ],
      "metadata": {
        "colab": {
          "base_uri": "https://localhost:8080/"
        },
        "id": "mZXaKHpEjDmz",
        "outputId": "337cc6ea-07c0-468c-a4c8-05ca8d6a7786"
      },
      "execution_count": 18,
      "outputs": [
        {
          "output_type": "stream",
          "name": "stdout",
          "text": [
            "micro: 0.94\n",
            "should equal avg='micro': 0.94\n"
          ]
        }
      ]
    },
    {
      "cell_type": "code",
      "source": [
        "print(metrics.classification_report(iris_test_tgt,\n",
        "tgt_preds))\n",
        "# average is a weighted macro average (see text)\n",
        "# verify sums-across-rows\n",
        "cm = metrics.confusion_matrix(iris_test_tgt, tgt_preds)\n",
        "print(\"row counts equal support:\", cm.sum(axis=1))"
      ],
      "metadata": {
        "colab": {
          "base_uri": "https://localhost:8080/"
        },
        "id": "QE6HvRodjtrG",
        "outputId": "b222b14e-6eb4-4e46-fdab-7b861e027e7c"
      },
      "execution_count": 19,
      "outputs": [
        {
          "output_type": "stream",
          "name": "stdout",
          "text": [
            "              precision    recall  f1-score   support\n",
            "\n",
            "           0       1.00      1.00      1.00        18\n",
            "           1       0.89      0.94      0.91        17\n",
            "           2       0.93      0.87      0.90        15\n",
            "\n",
            "    accuracy                           0.94        50\n",
            "   macro avg       0.94      0.94      0.94        50\n",
            "weighted avg       0.94      0.94      0.94        50\n",
            "\n",
            "row counts equal support: [18 17 15]\n"
          ]
        }
      ]
    },
    {
      "cell_type": "code",
      "source": [
        "title_fmt = \"Threshold {}\\n~{:5.3f}\\nTPR : {:.3f}\\nFPR : {:.3f}\"\n",
        "pn = ['Positive', 'Negative']\n",
        "add_args = {'xticklabels': pn,\n",
        "'yticklabels': pn,\n",
        "'square':True}\n",
        "fig, axes = plt.subplots(1, 3, sharey = True, figsize=(12, 4))\n",
        "for ax, thresh_idx in zip(axes.flat, investigate):\n",
        "  preds_at_th = prob_true < thresh[thresh_idx]\n",
        "  cm = metrics.confusion_matrix(1-iris_1c_test_tgt, preds_at_th)\n",
        "  sns.heatmap(cm, annot=True, cbar=False, ax=ax,\n",
        "  **add_args)\n",
        "  ax.set_xlabel('Predicted')\n",
        "  ax.set_title(title_fmt.format(thresh_idx,\n",
        "  thresh[thresh_idx],\n",
        "  tpr[thresh_idx],\n",
        "  fpr[thresh_idx]))\n",
        "\n",
        "\n",
        "axes[0].set_ylabel('Actual');\n",
        "# note: e.g. for threshold 3\n",
        "# FPR = 1-spec = 1 - 31/(31+2) = 1 - 31/33 = 0.0606..."
      ],
      "metadata": {
        "colab": {
          "base_uri": "https://localhost:8080/",
          "height": 602
        },
        "id": "lp8_06nXkHz4",
        "outputId": "78688b26-747d-4a7a-f03b-8ee88640c5e4"
      },
      "execution_count": 20,
      "outputs": [
        {
          "output_type": "error",
          "ename": "NameError",
          "evalue": "ignored",
          "traceback": [
            "\u001b[0;31m---------------------------------------------------------------------------\u001b[0m",
            "\u001b[0;31mNameError\u001b[0m                                 Traceback (most recent call last)",
            "\u001b[0;32m<ipython-input-20-456d84ead532>\u001b[0m in \u001b[0;36m<cell line: 7>\u001b[0;34m()\u001b[0m\n\u001b[1;32m      5\u001b[0m 'square':True}\n\u001b[1;32m      6\u001b[0m \u001b[0mfig\u001b[0m\u001b[0;34m,\u001b[0m \u001b[0maxes\u001b[0m \u001b[0;34m=\u001b[0m \u001b[0mplt\u001b[0m\u001b[0;34m.\u001b[0m\u001b[0msubplots\u001b[0m\u001b[0;34m(\u001b[0m\u001b[0;36m1\u001b[0m\u001b[0;34m,\u001b[0m \u001b[0;36m3\u001b[0m\u001b[0;34m,\u001b[0m \u001b[0msharey\u001b[0m \u001b[0;34m=\u001b[0m \u001b[0;32mTrue\u001b[0m\u001b[0;34m,\u001b[0m \u001b[0mfigsize\u001b[0m\u001b[0;34m=\u001b[0m\u001b[0;34m(\u001b[0m\u001b[0;36m12\u001b[0m\u001b[0;34m,\u001b[0m \u001b[0;36m4\u001b[0m\u001b[0;34m)\u001b[0m\u001b[0;34m)\u001b[0m\u001b[0;34m\u001b[0m\u001b[0;34m\u001b[0m\u001b[0m\n\u001b[0;32m----> 7\u001b[0;31m \u001b[0;32mfor\u001b[0m \u001b[0max\u001b[0m\u001b[0;34m,\u001b[0m \u001b[0mthresh_idx\u001b[0m \u001b[0;32min\u001b[0m \u001b[0mzip\u001b[0m\u001b[0;34m(\u001b[0m\u001b[0maxes\u001b[0m\u001b[0;34m.\u001b[0m\u001b[0mflat\u001b[0m\u001b[0;34m,\u001b[0m \u001b[0minvestigate\u001b[0m\u001b[0;34m)\u001b[0m\u001b[0;34m:\u001b[0m\u001b[0;34m\u001b[0m\u001b[0;34m\u001b[0m\u001b[0m\n\u001b[0m\u001b[1;32m      8\u001b[0m   \u001b[0mpreds_at_th\u001b[0m \u001b[0;34m=\u001b[0m \u001b[0mprob_true\u001b[0m \u001b[0;34m<\u001b[0m \u001b[0mthresh\u001b[0m\u001b[0;34m[\u001b[0m\u001b[0mthresh_idx\u001b[0m\u001b[0;34m]\u001b[0m\u001b[0;34m\u001b[0m\u001b[0;34m\u001b[0m\u001b[0m\n\u001b[1;32m      9\u001b[0m   \u001b[0mcm\u001b[0m \u001b[0;34m=\u001b[0m \u001b[0mmetrics\u001b[0m\u001b[0;34m.\u001b[0m\u001b[0mconfusion_matrix\u001b[0m\u001b[0;34m(\u001b[0m\u001b[0;36m1\u001b[0m\u001b[0;34m-\u001b[0m\u001b[0miris_1c_test_tgt\u001b[0m\u001b[0;34m,\u001b[0m \u001b[0mpreds_at_th\u001b[0m\u001b[0;34m)\u001b[0m\u001b[0;34m\u001b[0m\u001b[0;34m\u001b[0m\u001b[0m\n",
            "\u001b[0;31mNameError\u001b[0m: name 'investigate' is not defined"
          ]
        },
        {
          "output_type": "display_data",
          "data": {
            "text/plain": [
              "<Figure size 1200x400 with 3 Axes>"
            ],
            "image/png": "[encoded data removed]"
          },
          "metadata": {}
        }
      ]
    },
    {
      "cell_type": "code",
      "source": [
        "# warning: this is 1 \"one\" not l \"ell\"\n",
        "is_versicolor = iris.target == 1\n",
        "tts_1c = skms.train_test_split(iris.data, is_versicolor,\n",
        "test_size=.33, random_state = 21)\n",
        "(iris_1c_train_ftrs, iris_1c_test_ftrs,\n",
        "iris_1c_train_tgt,\n",
        "iris_1c_test_tgt) = tts_1c\n",
        "# build, fit, predict (probability scores) for NB model\n",
        "gnb = naive_bayes.GaussianNB()\n",
        "prob_true = (gnb.fit(iris_1c_train_ftrs, iris_1c_train_tgt)\n",
        ".predict_proba(iris_1c_test_ftrs)[:, 1]) # [:, 1]==\"True\""
      ],
      "metadata": {
        "id": "chokZQhlq79X"
      },
      "execution_count": 23,
      "outputs": []
    },
    {
      "cell_type": "code",
      "source": [
        "fpr, tpr, thresh = metrics.roc_curve(iris_1c_test_tgt,\n",
        "prob_true)\n",
        "auc = metrics.auc(fpr, tpr)\n",
        "print(\"FPR : {}\".format(fpr),\n",
        "\"TPR : {}\".format(tpr), sep='\\n')\n",
        "# create the main graph\n",
        "fig, ax = plt.subplots(figsize=(8, 4))\n",
        "ax.plot(fpr, tpr, 'o--')\n",
        "ax.set_title(\"1-Class Iris ROC Curve\\nAUC:{:.3f}\".format(auc))\n",
        "ax.set_xlabel(\"FPR\")\n",
        "ax.set_ylabel(\"TPR\");\n",
        "# do a bit of work to label some points with their\n",
        "# respective thresholds\n",
        "investigate = np.array([1, 3, 5])\n",
        "for idx in investigate:\n",
        "  th, f, t = thresh[idx], fpr[idx], tpr[idx]\n",
        "  ax.annotate('thresh = {:.3f}'.format(th),\n",
        "  xy=(f+.01, t-.01), xytext=(f+.1, t),\n",
        "  arrowprops = {'arrowstyle':'->'})"
      ],
      "metadata": {
        "colab": {
          "base_uri": "https://localhost:8080/",
          "height": 466
        },
        "id": "1Ao2nVEyrB0I",
        "outputId": "ef04f113-0878-4ef7-f358-0aa57c558501"
      },
      "execution_count": 24,
      "outputs": [
        {
          "output_type": "stream",
          "name": "stdout",
          "text": [
            "FPR : [0.     0.     0.     0.0606 0.0606 0.1212 0.1212 0.1818 1.    ]\n",
            "TPR : [0.     0.0588 0.8824 0.8824 0.9412 0.9412 1.     1.     1.    ]\n"
          ]
        },
        {
          "output_type": "display_data",
          "data": {
            "text/plain": [
              "<Figure size 800x400 with 1 Axes>"
            ],
            "image/png": "[encoded data removed]"
          },
          "metadata": {}
        }
      ]
    },
    {
      "cell_type": "code",
      "source": [
        "title_fmt = \"Threshold {}\\n~{:5.3f}\\nTPR : {:.3f}\\nFPR : {:.3f}\"\n",
        "pn = ['Positive', 'Negative']\n",
        "add_args = {'xticklabels': pn,\n",
        "'yticklabels': pn,\n",
        "'square':True}\n",
        "fig, axes = plt.subplots(1, 3, sharey = True, figsize=(12, 4))\n",
        "for ax, thresh_idx in zip(axes.flat, investigate):\n",
        "\n",
        "  preds_at_th = prob_true < thresh[thresh_idx]\n",
        "  cm = metrics.confusion_matrix(1-iris_1c_test_tgt, preds_at_th)\n",
        "  sns.heatmap(cm, annot=True, cbar=False, ax=ax,\n",
        "  **add_args)\n",
        "  ax.set_xlabel('Predicted')\n",
        "  ax.set_title(title_fmt.format(thresh_idx,\n",
        "  thresh[thresh_idx],\n",
        "  tpr[thresh_idx],\n",
        "  fpr[thresh_idx]))\n",
        "  axes[0].set_ylabel('Actual');\n",
        "  # note: e.g. for threshold 3\n",
        "  # FPR = 1-spec = 1 - 31/(31+2) = 1 - 31/33 = 0.0606..."
      ],
      "metadata": {
        "colab": {
          "base_uri": "https://localhost:8080/",
          "height": 438
        },
        "id": "dJS4lgdLrWbI",
        "outputId": "d785c5e6-3beb-4260-8386-b4e22eee7e51"
      },
      "execution_count": 25,
      "outputs": [
        {
          "output_type": "display_data",
          "data": {
            "text/plain": [
              "<Figure size 1200x400 with 3 Axes>"
            ],
            "image/png": "[encoded data removed]"
          },
          "metadata": {}
        }
      ]
    },
    {
      "cell_type": "code",
      "source": [],
      "metadata": {
        "id": "2sQvfEX0riyh"
      },
      "execution_count": null,
      "outputs": []
    }
  ]
}