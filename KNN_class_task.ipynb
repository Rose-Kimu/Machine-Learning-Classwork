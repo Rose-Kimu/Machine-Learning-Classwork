{
  "nbformat": 4,
  "nbformat_minor": 0,
  "metadata": {
    "colab": {
      "provenance": [],
      "authorship_tag": "ABX9TyNF3J7/SzOGbRfEB05iwKV0",
      "include_colab_link": true
    },
    "kernelspec": {
      "name": "python3",
      "display_name": "Python 3"
    },
    "language_info": {
      "name": "python"
    }
  },
  "cells": [
    {
      "cell_type": "markdown",
      "metadata": {
        "id": "view-in-github",
        "colab_type": "text"
      },
      "source": [
        "<a href=\"https://colab.research.google.com/github/Rose-Kimu/Machine-Learning-Classwork/blob/main/KNN_class_task.ipynb\" target=\"_parent\"><img src=\"https://colab.research.google.com/assets/colab-badge.svg\" alt=\"Open In Colab\"/></a>"
      ]
    },
    {
      "cell_type": "code",
      "execution_count": null,
      "metadata": {
        "colab": {
          "base_uri": "https://localhost:8080/"
        },
        "id": "w3oF7B0gRvpH",
        "outputId": "0289885d-7259-4690-a247-2aee476a39e8"
      },
      "outputs": [
        {
          "output_type": "stream",
          "name": "stdout",
          "text": [
            "80\n",
            "951\n",
            "75\n",
            "171\n",
            "81\n",
            "1100\n",
            "68\n",
            "175\n",
            "70\n",
            "1240\n",
            "76\n",
            "168\n",
            "69\n",
            "1400\n",
            "72\n",
            "170\n",
            "70\n",
            "1000\n",
            "80\n",
            "160\n",
            "65\n",
            "1800\n",
            "72\n",
            "150\n",
            "80\n",
            "1220\n",
            "68\n",
            "140\n",
            "62\n",
            "1121\n",
            "71\n",
            "139\n"
          ]
        }
      ],
      "source": [
        "array = [[80,951,75,171],\n",
        "         [81,1100,68,175],\n",
        "         [70,1240,76,168],\n",
        "         [69,1400,72,170],\n",
        "         [70,1000,80,160],\n",
        "         [65,1800,72,150],\n",
        "         [80,1220,68,140],\n",
        "         [62,1121,71,139]]\n",
        "\n",
        "jacinta = [70,820,65,149]\n",
        "\n",
        "for i in array:\n",
        "  for j in i:\n",
        "    print( j)"
      ]
    },
    {
      "cell_type": "code",
      "source": [
        "array = [[80,951,75,171],\n",
        "         [81,1100,68,175],\n",
        "         [70,1240,76,168],\n",
        "         [69,1400,72,170],\n",
        "         [70,1000,80,160],\n",
        "         [65,1800,72,150],\n",
        "         [80,1220,68,140],\n",
        "         [62,1121,71,139],\n",
        "         [70,820,65,149]]\n",
        "\n",
        "jacinta = [70,820,65,149]\n",
        "\n",
        "for index1, value1 in enumerate(array):\n",
        "  for index2, value2  in enumerate(value1):\n",
        "    print( \"[\" ,index1,\"]\" ,\"[\",index2, \"]\", value2)"
      ],
      "metadata": {
        "colab": {
          "base_uri": "https://localhost:8080/"
        },
        "id": "v8PPO8eaVdwN",
        "outputId": "120efd26-beb9-4299-e366-5879f0db6476"
      },
      "execution_count": null,
      "outputs": [
        {
          "output_type": "stream",
          "name": "stdout",
          "text": [
            "[ 0 ] [ 0 ] 80\n",
            "[ 0 ] [ 1 ] 951\n",
            "[ 0 ] [ 2 ] 75\n",
            "[ 0 ] [ 3 ] 171\n",
            "[ 1 ] [ 0 ] 81\n",
            "[ 1 ] [ 1 ] 1100\n",
            "[ 1 ] [ 2 ] 68\n",
            "[ 1 ] [ 3 ] 175\n",
            "[ 2 ] [ 0 ] 70\n",
            "[ 2 ] [ 1 ] 1240\n",
            "[ 2 ] [ 2 ] 76\n",
            "[ 2 ] [ 3 ] 168\n",
            "[ 3 ] [ 0 ] 69\n",
            "[ 3 ] [ 1 ] 1400\n",
            "[ 3 ] [ 2 ] 72\n",
            "[ 3 ] [ 3 ] 170\n",
            "[ 4 ] [ 0 ] 70\n",
            "[ 4 ] [ 1 ] 1000\n",
            "[ 4 ] [ 2 ] 80\n",
            "[ 4 ] [ 3 ] 160\n",
            "[ 5 ] [ 0 ] 65\n",
            "[ 5 ] [ 1 ] 1800\n",
            "[ 5 ] [ 2 ] 72\n",
            "[ 5 ] [ 3 ] 150\n",
            "[ 6 ] [ 0 ] 80\n",
            "[ 6 ] [ 1 ] 1220\n",
            "[ 6 ] [ 2 ] 68\n",
            "[ 6 ] [ 3 ] 140\n",
            "[ 7 ] [ 0 ] 62\n",
            "[ 7 ] [ 1 ] 1121\n",
            "[ 7 ] [ 2 ] 71\n",
            "[ 7 ] [ 3 ] 139\n",
            "[ 8 ] [ 0 ] 70\n",
            "[ 8 ] [ 1 ] 820\n",
            "[ 8 ] [ 2 ] 65\n",
            "[ 8 ] [ 3 ] 149\n"
          ]
        }
      ]
    },
    {
      "cell_type": "code",
      "source": [
        "array = [[80,951,75,171],\n",
        "         [81,1100,68,175],\n",
        "         [70,1240,76,168],\n",
        "         [69,1400,72,170],\n",
        "         [70,1000,80,160],\n",
        "         [65,1800,72,150],\n",
        "         [80,1220,68,140],\n",
        "         [62,1121,71,139],\n",
        "         [70,820,65,149]]\n",
        "\n",
        "# Get the last row from the array\n",
        "last_row = array[-1]\n",
        "\n",
        "# Initialize variables to track the minimum difference and its location\n",
        "min_diff = float('inf')  # Initialize with positive infinity\n",
        "min_location = None\n",
        "\n",
        "# Iterate through all other rows\n",
        "for row_index, row in enumerate(array[:-1]):\n",
        "\n",
        "    # Iterate through the elements in the row and calculate the absolute difference\n",
        "    diff = sum(abs(x - y) for x, y in zip(row, last_row))\n",
        "\n",
        "    # Check if this difference is smaller than the current minimum\n",
        "    if diff < min_diff:\n",
        "        min_diff = diff\n",
        "        min_location = row_index\n",
        "\n",
        "# Print the location of the row with the minimum difference\n",
        "print(f\"Minimum difference found at row {min_location} with values {array[min_location]}\")\n"
      ],
      "metadata": {
        "colab": {
          "base_uri": "https://localhost:8080/"
        },
        "id": "FhW0bfOBZBzA",
        "outputId": "2f73e79b-5610-4e64-d857-43042a960890"
      },
      "execution_count": null,
      "outputs": [
        {
          "output_type": "stream",
          "name": "stdout",
          "text": [
            "Minimum difference found at row 0 with values [80, 951, 75, 171]\n"
          ]
        }
      ]
    },
    {
      "cell_type": "code",
      "source": [
        "array = [[80,951,75,171],\n",
        "         [81,1100,68,175],\n",
        "         [70,1240,76,168],\n",
        "         [69,1400,72,170],\n",
        "         [70,1000,80,160],\n",
        "         [65,1800,72,150],\n",
        "         [80,1220,68,140],\n",
        "         [62,1121,71,139],\n",
        "         [70,820,65,149]]\n",
        "\n",
        "# Get the last row from the array\n",
        "last_row = array[-1]\n",
        "\n",
        "# Initialize variables to track the minimum difference and its location\n",
        "min_diff = float('inf')  # Initialize with positive infinity\n",
        "min_location = None\n",
        "\n",
        "# Iterate through all other rows\n",
        "for row_index, row in enumerate(array[:-1]):\n",
        "\n",
        "    # Iterate through the elements in the row and calculate the absolute difference\n",
        "    diff = sum(abs(x - y) for x, y in zip(row, last_row))\n",
        "\n",
        "    # Check if this difference is smaller than the current minimum\n",
        "    if diff < min_diff:\n",
        "        min_diff = diff\n",
        "        min_location = row_index\n",
        "\n",
        "    # Print the absolute difference for the current row\n",
        "    print(f\"Absolute difference for row {row_index}: {diff}\")\n",
        "\n",
        "# Print the location of the row with the minimum difference\n",
        "print(f\"Minimum difference found at row {min_location} with values {array[min_location]}\")\n"
      ],
      "metadata": {
        "colab": {
          "base_uri": "https://localhost:8080/"
        },
        "id": "oMh4_mzucogE",
        "outputId": "7be7b965-c8f7-4c1c-ef9b-3b76a1bf9c5d"
      },
      "execution_count": null,
      "outputs": [
        {
          "output_type": "stream",
          "name": "stdout",
          "text": [
            "Absolute difference for row 0: 173\n",
            "Absolute difference for row 1: 320\n",
            "Absolute difference for row 2: 450\n",
            "Absolute difference for row 3: 609\n",
            "Absolute difference for row 4: 206\n",
            "Absolute difference for row 5: 993\n",
            "Absolute difference for row 6: 422\n",
            "Absolute difference for row 7: 325\n",
            "Minimum difference found at row 0 with values [80, 951, 75, 171]\n"
          ]
        }
      ]
    },
    {
      "cell_type": "code",
      "source": [
        "# Define the array of tuples\n",
        "array = (\n",
        "    (80, 951, 75, 171, \"good\"),\n",
        "    (81, 1100, 68, 175, \"good\"),\n",
        "    (70, 1240, 76, 168, \"good\"),\n",
        "    (69, 1400, 72, 170, \"good\"),\n",
        "    (70, 1000, 80, 160, \"bad\"),\n",
        "    (65, 1800, 72, 150, \"bad\"),\n",
        "    (80, 1220, 68, 140, \"good\"),\n",
        "    (62, 1121, 71, 139, \"bad\"),\n",
        "    (70, 820, 65, 149, \"\")\n",
        ")\n",
        "\n",
        "# Get the last row from the array\n",
        "last_row = array[-1]\n",
        "\n",
        "# Initialize variables to track the minimum difference and its location\n",
        "min_diff = float('inf')  # Initialize with positive infinity\n",
        "min_location = None\n",
        "\n",
        "# Iterate through all other rows\n",
        "for row_index, row in enumerate(array[:-1]):\n",
        "\n",
        "    # Iterate through the elements in the row except the last element\n",
        "    diff = sum(abs(x - y) for x, y in zip(row[:-1], last_row[:-1]))\n",
        "\n",
        "    # Check if this difference is smaller than the current minimum\n",
        "    if diff < min_diff:\n",
        "        min_diff = diff\n",
        "        min_location = row_index\n",
        "\n",
        "# Print the location of the row with the minimum difference\n",
        "print(\"Jacinta is likely to end up being \", array[min_location][4])\n",
        "# print(f\"Minimum difference found at row {min_location} with values {array[min_location]}\")\n"
      ],
      "metadata": {
        "colab": {
          "base_uri": "https://localhost:8080/"
        },
        "id": "KsYZIpMMeebe",
        "outputId": "20695cd4-0729-49d0-bed3-9bb5df79cb44"
      },
      "execution_count": null,
      "outputs": [
        {
          "output_type": "stream",
          "name": "stdout",
          "text": [
            "Jacinta is likely to end up being  good\n"
          ]
        }
      ]
    }
  ]
}